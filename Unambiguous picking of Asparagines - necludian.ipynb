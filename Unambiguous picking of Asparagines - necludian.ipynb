{
 "cells": [
  {
   "cell_type": "markdown",
   "metadata": {},
   "source": [
    "#### Importing necessary libraries"
   ]
  },
  {
   "cell_type": "code",
   "execution_count": 1,
   "metadata": {
    "collapsed": true
   },
   "outputs": [],
   "source": [
    "import numpy as np\n",
    "import pandas as pd\n",
    "from sklearn.neighbors import NearestNeighbors\n",
    "import statistics as st"
   ]
  },
  {
   "cell_type": "markdown",
   "metadata": {},
   "source": [
    "#### Reading Data File"
   ]
  },
  {
   "cell_type": "code",
   "execution_count": 2,
   "metadata": {
    "collapsed": false
   },
   "outputs": [],
   "source": [
    "cbcaconh = pd.read_table('cc.pl',header=None, usecols=(1,2,3,4))\n",
    "cbcaconh.columns=['H','N','C','I']\n",
    "#cbcaconh[::-100]"
   ]
  },
  {
   "cell_type": "markdown",
   "metadata": {},
   "source": [
    "#### Asparagine window"
   ]
  },
  {
   "cell_type": "code",
   "execution_count": 3,
   "metadata": {
    "collapsed": false
   },
   "outputs": [],
   "source": [
    "ASN=cbcaconh[(cbcaconh.N<120)&(cbcaconh.N>108)]\n",
    "ASN=ASN[(ASN.H<9.0)&(ASN.H>5.5)]\n",
    "ASN=ASN[(ASN.C<55)&(ASN.C>34)]\n",
    "#ASN.reset_index(drop=True)[::-10]"
   ]
  },
  {
   "cell_type": "markdown",
   "metadata": {},
   "source": [
    "#### Normalization"
   ]
  },
  {
   "cell_type": "code",
   "execution_count": 4,
   "metadata": {
    "collapsed": false
   },
   "outputs": [],
   "source": [
    "#%%timeit\n",
    "ASN=(ASN-ASN.mean())\n",
    "ASN=ASN.divide(ASN.std(),axis='columns')\n",
    "#ASN.reset_index(drop=True)[::-10]"
   ]
  },
  {
   "cell_type": "markdown",
   "metadata": {},
   "source": [
    "#### Finding the best match for each peak by comparing with all other in (N,H) dimensions"
   ]
  },
  {
   "cell_type": "code",
   "execution_count": 5,
   "metadata": {
    "collapsed": false
   },
   "outputs": [],
   "source": [
    "#%%timeit \n",
    "asn_hn=ASN[['H','N']].values\n",
    "nbrs = NearestNeighbors(n_neighbors=2, algorithm='ball_tree').fit(asn_hn)\n",
    "dist, idx = nbrs.kneighbors(asn_hn) "
   ]
  },
  {
   "cell_type": "markdown",
   "metadata": {},
   "source": [
    "#### Distance to nearest neighbor peaks apart"
   ]
  },
  {
   "cell_type": "code",
   "execution_count": 6,
   "metadata": {
    "collapsed": false
   },
   "outputs": [
    {
     "data": {
      "text/plain": [
       "0.0"
      ]
     },
     "execution_count": 6,
     "metadata": {},
     "output_type": "execute_result"
    }
   ],
   "source": [
    "dist_r=dist[:,1:]   # [:,0:] = 0 which represents the distance to it self. which is also treated as neighbor \n",
    "dist_r.min()"
   ]
  },
  {
   "cell_type": "markdown",
   "metadata": {},
   "source": [
    "#### Matching peaks with the given tolerence distance"
   ]
  },
  {
   "cell_type": "code",
   "execution_count": 7,
   "metadata": {
    "collapsed": false
   },
   "outputs": [
    {
     "data": {
      "text/plain": [
       "(59, 2)"
      ]
     },
     "execution_count": 7,
     "metadata": {},
     "output_type": "execute_result"
    }
   ],
   "source": [
    "tol=0.005\n",
    "matchs=idx[(np.where(dist_r<tol)[0])] \n",
    "matchs.shape"
   ]
  },
  {
   "cell_type": "markdown",
   "metadata": {},
   "source": [
    "#### Unique N-H pairs"
   ]
  },
  {
   "cell_type": "code",
   "execution_count": 8,
   "metadata": {
    "collapsed": false
   },
   "outputs": [],
   "source": [
    "a=matchs.T[0]\n",
    "b=matchs.T[1]\n",
    "unqd=[]\n",
    "unq=[]\n",
    "for i in range(len(a)):\n",
    "    x=a[i]\n",
    "    y=b[i]\n",
    "    if (x not in unqd) and (y not in unqd):\n",
    "        unqd.append(x)\n",
    "        unqd.append(y)\n",
    "        unq.append([x,y])\n",
    "df_hn=(ASN.iloc[unqd])\n",
    "#df_hn.reset_index(drop=True)"
   ]
  },
  {
   "cell_type": "markdown",
   "metadata": {},
   "source": [
    "  #### Separating $C_{\\alpha}\\  and\\ \\  C_{\\beta}$     "
   ]
  },
  {
   "cell_type": "code",
   "execution_count": 9,
   "metadata": {
    "collapsed": false
   },
   "outputs": [],
   "source": [
    "tmp=cbcaconh\n",
    "H=[]\n",
    "N=[]\n",
    "CA=[]\n",
    "CB=[]\n",
    "for i in range(len(unq)):\n",
    "    x,y=(ASN.iloc[unq[i]]).index\n",
    "    Hm=st.mean([tmp.iloc[x,0],tmp.iloc[y,0]])\n",
    "    Nm=st.mean([tmp.iloc[x,1],tmp.iloc[y,1]])\n",
    "    cx=tmp.iloc[x,2]\n",
    "    cy=tmp.iloc[y,2]\n",
    "    if (cx > 47) and (cy < 47):\n",
    "        H.append(Hm)\n",
    "        N.append(Nm)\n",
    "        CA.append(cx)\n",
    "        CB.append(cy)\n",
    "    if (cx < 47) and (cy > 47):\n",
    "        H.append(Hm)\n",
    "        N.append(Nm)\n",
    "        CA.append(cy)\n",
    "        CB.append(cx)\n",
    "df_cab=pd.DataFrame({'H':H,'N':N,'CA':CA,'CB':CB})\n",
    "del(tmp)\n",
    "#df_cab"
   ]
  },
  {
   "cell_type": "markdown",
   "metadata": {},
   "source": [
    "#### Normalization"
   ]
  },
  {
   "cell_type": "code",
   "execution_count": 10,
   "metadata": {
    "collapsed": false
   },
   "outputs": [],
   "source": [
    "df_hnc=df_cab.copy()\n",
    "df_hnc=(df_hnc-df_hnc.mean())\n",
    "df_hnc=df_hnc.divide(df_hnc.std(),axis='columns')\n",
    "#df_hnc"
   ]
  },
  {
   "cell_type": "markdown",
   "metadata": {},
   "source": [
    "#### Finding similar peaks in    $N \\ - \\ C_{\\alpha}\\ - \\ \\  C_{\\beta}$    "
   ]
  },
  {
   "cell_type": "code",
   "execution_count": 11,
   "metadata": {
    "collapsed": false
   },
   "outputs": [],
   "source": [
    "ag_ncc=df_hnc[['N','CA','CB']].values\n",
    "nbrs_ncc = NearestNeighbors(n_neighbors=2, algorithm='ball_tree').fit(ag_ncc)\n",
    "dist_ncc, idx_ncc = nbrs_ncc.kneighbors(ag_ncc)\n",
    "dist_r_ncc=dist_ncc[:,1:]\n",
    "matchs_ncc=idx_ncc[np.where(dist_r_ncc<0.1)[0]]"
   ]
  },
  {
   "cell_type": "markdown",
   "metadata": {},
   "source": [
    "#### Unique     $ \\ N \\ - \\ C_{\\alpha}\\ - \\ \\  C_{\\beta}$   "
   ]
  },
  {
   "cell_type": "code",
   "execution_count": 12,
   "metadata": {
    "collapsed": false
   },
   "outputs": [
    {
     "data": {
      "text/html": [
       "<div>\n",
       "<table border=\"1\" class=\"dataframe\">\n",
       "  <thead>\n",
       "    <tr style=\"text-align: right;\">\n",
       "      <th></th>\n",
       "      <th>CA</th>\n",
       "      <th>CB</th>\n",
       "      <th>H</th>\n",
       "      <th>N</th>\n",
       "    </tr>\n",
       "  </thead>\n",
       "  <tbody>\n",
       "    <tr>\n",
       "      <th>10</th>\n",
       "      <td>52.350</td>\n",
       "      <td>39.648</td>\n",
       "      <td>6.473</td>\n",
       "      <td>109.885</td>\n",
       "    </tr>\n",
       "    <tr>\n",
       "      <th>9</th>\n",
       "      <td>52.350</td>\n",
       "      <td>39.648</td>\n",
       "      <td>7.528</td>\n",
       "      <td>109.885</td>\n",
       "    </tr>\n",
       "    <tr>\n",
       "      <th>13</th>\n",
       "      <td>52.359</td>\n",
       "      <td>41.735</td>\n",
       "      <td>7.506</td>\n",
       "      <td>113.174</td>\n",
       "    </tr>\n",
       "    <tr>\n",
       "      <th>12</th>\n",
       "      <td>52.359</td>\n",
       "      <td>41.735</td>\n",
       "      <td>7.214</td>\n",
       "      <td>113.174</td>\n",
       "    </tr>\n",
       "    <tr>\n",
       "      <th>16</th>\n",
       "      <td>52.913</td>\n",
       "      <td>38.182</td>\n",
       "      <td>7.722</td>\n",
       "      <td>115.916</td>\n",
       "    </tr>\n",
       "    <tr>\n",
       "      <th>15</th>\n",
       "      <td>52.913</td>\n",
       "      <td>38.182</td>\n",
       "      <td>6.925</td>\n",
       "      <td>115.916</td>\n",
       "    </tr>\n",
       "    <tr>\n",
       "      <th>17</th>\n",
       "      <td>54.145</td>\n",
       "      <td>39.209</td>\n",
       "      <td>8.315</td>\n",
       "      <td>113.847</td>\n",
       "    </tr>\n",
       "    <tr>\n",
       "      <th>18</th>\n",
       "      <td>54.145</td>\n",
       "      <td>39.209</td>\n",
       "      <td>6.921</td>\n",
       "      <td>113.625</td>\n",
       "    </tr>\n",
       "    <tr>\n",
       "      <th>22</th>\n",
       "      <td>54.331</td>\n",
       "      <td>37.484</td>\n",
       "      <td>7.027</td>\n",
       "      <td>112.468</td>\n",
       "    </tr>\n",
       "    <tr>\n",
       "      <th>21</th>\n",
       "      <td>54.331</td>\n",
       "      <td>37.484</td>\n",
       "      <td>7.737</td>\n",
       "      <td>112.468</td>\n",
       "    </tr>\n",
       "    <tr>\n",
       "      <th>25</th>\n",
       "      <td>53.180</td>\n",
       "      <td>39.254</td>\n",
       "      <td>6.802</td>\n",
       "      <td>112.690</td>\n",
       "    </tr>\n",
       "    <tr>\n",
       "      <th>24</th>\n",
       "      <td>53.180</td>\n",
       "      <td>39.254</td>\n",
       "      <td>7.505</td>\n",
       "      <td>112.690</td>\n",
       "    </tr>\n",
       "    <tr>\n",
       "      <th>28</th>\n",
       "      <td>51.539</td>\n",
       "      <td>39.865</td>\n",
       "      <td>6.848</td>\n",
       "      <td>113.270</td>\n",
       "    </tr>\n",
       "    <tr>\n",
       "      <th>27</th>\n",
       "      <td>51.539</td>\n",
       "      <td>39.865</td>\n",
       "      <td>7.536</td>\n",
       "      <td>113.270</td>\n",
       "    </tr>\n",
       "  </tbody>\n",
       "</table>\n",
       "</div>"
      ],
      "text/plain": [
       "        CA      CB      H        N\n",
       "10  52.350  39.648  6.473  109.885\n",
       "9   52.350  39.648  7.528  109.885\n",
       "13  52.359  41.735  7.506  113.174\n",
       "12  52.359  41.735  7.214  113.174\n",
       "16  52.913  38.182  7.722  115.916\n",
       "15  52.913  38.182  6.925  115.916\n",
       "17  54.145  39.209  8.315  113.847\n",
       "18  54.145  39.209  6.921  113.625\n",
       "22  54.331  37.484  7.027  112.468\n",
       "21  54.331  37.484  7.737  112.468\n",
       "25  53.180  39.254  6.802  112.690\n",
       "24  53.180  39.254  7.505  112.690\n",
       "28  51.539  39.865  6.848  113.270\n",
       "27  51.539  39.865  7.536  113.270"
      ]
     },
     "execution_count": 12,
     "metadata": {},
     "output_type": "execute_result"
    }
   ],
   "source": [
    "a=matchs_ncc.T[0]\n",
    "b=matchs_ncc.T[1]\n",
    "unqd_ncc=[]\n",
    "unq_ncc=[]\n",
    "for i in range(len(a)):\n",
    "    x=a[i]\n",
    "    y=b[i]\n",
    "    if (x not in unqd_ncc) and (y not in unqd_ncc):\n",
    "        unqd_ncc.append(x)\n",
    "        unqd_ncc.append(y)\n",
    "        unq_ncc.append([x,y])\n",
    "df_ncc=(df_cab.iloc[unqd_ncc])\n",
    "df_ncc"
   ]
  }
 ],
 "metadata": {
  "kernelspec": {
   "display_name": "Python 3",
   "language": "python",
   "name": "python3"
  },
  "language_info": {
   "codemirror_mode": {
    "name": "ipython",
    "version": 3
   },
   "file_extension": ".py",
   "mimetype": "text/x-python",
   "name": "python",
   "nbconvert_exporter": "python",
   "pygments_lexer": "ipython3",
   "version": "3.4.4"
  }
 },
 "nbformat": 4,
 "nbformat_minor": 0
}
